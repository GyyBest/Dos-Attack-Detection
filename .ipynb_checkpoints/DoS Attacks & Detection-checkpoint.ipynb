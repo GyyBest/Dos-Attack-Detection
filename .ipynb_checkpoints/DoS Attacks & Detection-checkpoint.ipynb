{
 "cells": [
  {
   "cell_type": "markdown",
   "metadata": {},
   "source": [
    "# DoS Attacks & Dectection \n",
    "                                                         Jean-Gaspar COLLARD,Theophane MARTEAU,Yan GUO"
   ]
  },
  {
   "cell_type": "markdown",
   "metadata": {},
   "source": [
    "In this Jupyter noterbook, we focus on talking on something about Denial of Service(DoS).\n",
    "\n",
    "It is very known that Denial of Service (DoS) attacks is constantly growing over time. So we need to talk it in detail.\n",
    "- DoS/DDoS attack & their principle\n",
    "- KDD Dataset presentation\n",
    "- Solution to detect a DoS attack"
   ]
  },
  {
   "cell_type": "markdown",
   "metadata": {},
   "source": [
    "# I.I What's a DoS attack"
   ]
  },
  {
   "cell_type": "markdown",
   "metadata": {},
   "source": [
    "Denial-of-service(DoS) attack is an attempt to make a machine or network resource unavailable to its intended users, such as to temporarily or indefinitely interrupt or suspend services of a host connected to the Internet.\n",
    "Distributed denial-of-service (DDoS) is where the attack source is more than one, often thousands of, unique IP addresses. "
   ]
  },
  {
   "cell_type": "markdown",
   "metadata": {},
   "source": [
    "# I.II The principle of DoS/DDoS attack"
   ]
  },
  {
   "cell_type": "markdown",
   "metadata": {},
   "source": [
    "**How a *service* can be denied to a user?** "
   ]
  },
  {
   "cell_type": "markdown",
   "metadata": {},
   "source": [
    "![](figs/device_infra_users7.png?raw=true)"
   ]
  },
  {
   "cell_type": "markdown",
   "metadata": {},
   "source": [
    "**1.SYN Flood Attack**\n",
    "\n",
    "It’s half open attack. The attack involves having a client repeatedly send SYN(synchronization) packets to every port on a server, using fake IP addresses. When an attack begins, the server sees the equivalent of multiple attempts to establish communications. The server responds to each attempt with a SYN/ACK(synchronization acknowledged) packet from each open port, and with a RST(reset) packet from each closed port."
   ]
  },
  {
   "cell_type": "markdown",
   "metadata": {},
   "source": [
    "![](figs/SYNFlood.jpeg?raw=true)"
   ]
  },
  {
   "cell_type": "markdown",
   "metadata": {},
   "source": [
    "**2.Resource Consumption Attack**\n",
    "\n",
    "Flooding a server such as a web, mail or print server can cause the daemon to drop/refuse legitimate requests to websites, mail boxes or printers respectively. This time whilst the network equipment can handle the large volume of requests the actual software may not be able to.\n",
    "\n",
    "- Websites may do down because an attacker is creating a large amount of requests to an HTTP server.\n",
    "- A mail server(SMTP/POP etc) can fail if its “mail bombed”. This is the act of sending hundreds and thousands of bogus emails in a very short amount of time.\n",
    "- In an office your printing ability can be denied by a malicious co-worker or worse a network vulnerability which causes an attack by sending several large printing jobs or perhaps corrupted print jobs that can stall the printer.\n",
    "\n",
    "Attackers can take advantage of bugs in software which may cause CPU/memory usage to dramatically increase potentially denying access not only its service but to all services offered by that machine."
   ]
  },
  {
   "cell_type": "markdown",
   "metadata": {},
   "source": [
    "**3.Flood of normal traffic**\n",
    "\n",
    "Flooding a network can cause network equipment such as routers and switches to be overwhelmed to such an extent that they start to affect the speed or success of legitimate network traffic. Basically all available bandwidth is consumed and no bandwidth remains for legitimate use."
   ]
  },
  {
   "cell_type": "markdown",
   "metadata": {},
   "source": [
    "# II.KDD Dataset presentation\n",
    "Here we choose to work with the KDD Cup 99 data set, which is a commonly used data set for DOS attack test and studies."
   ]
  },
  {
   "cell_type": "markdown",
   "metadata": {},
   "source": [
    "The 1998 DARPA Intrusion Detection Evaluation Program was prepared and managed by MIT Lincoln Labs. The objective was to survey and evaluate research in intrusion detection.  A standard set of data to be audited, which includes a wide variety of intrusions simulated in a military network environment, was provided. The 1999 KDD intrusion detection contest uses a version of this dataset.\n",
    "\n",
    "Lincoln Labs set up an environment to acquire nine weeks of raw TCP dump data for a local-area network simulating a typical U.S. Air Force LAN.  They operated the LAN as if it were a true Air Force environment, but peppered it with multiple attacks."
   ]
  },
  {
   "cell_type": "markdown",
   "metadata": {},
   "source": [
    "The raw training data was about four gigabytes of compressed binary TCP dump data from seven weeks of network traffic.  This was processed into about five million connection records.  Similarly, the two weeks of test data yielded around two million connection records.\n",
    "\n",
    "A connection is a sequence of TCP packets starting and ending at some well defined times, between which data flows to and from a source IP address to a target IP address under some well defined protocol.  Each connection is labeled as either normal, or as an attack, with exactly one specific attack type.\n",
    "\n",
    "Attacks fall into four main categories:\n",
    "- DOS: denial-of-service;\n",
    "- R2L: unauthorized access from a remote machine, e.g. guessing password;\n",
    "- U2R:  unauthorized access to local superuser privileges, e.g., various \"buffer overflow\" attacks;\n",
    "- probing: surveillance and other probing, e.g., port scanning.\n",
    "\n",
    "The datasets contain a total of 24 training attack types, with an additional 14 types in the test data only. "
   ]
  },
  {
   "cell_type": "markdown",
   "metadata": {},
   "source": [
    "We use the 10% version. It’s a record of 494 021 connections records. Each record possess 41 feature  and consists of about 100 bytes, and is labeled as normal or attack, the first 9 features are the basic ones (duration, protocol, …), next 13 are the one gain by using domain knowledge(number of failed login, number of root access, …), last 19 are the one obtained using two-second time windows(number of connection of the host/service, ...)."
   ]
  },
  {
   "cell_type": "code",
   "execution_count": 30,
   "metadata": {
    "collapsed": false
   },
   "outputs": [],
   "source": [
    "import numpy as np\n",
    "import pandas as pd\n",
    "import pandas_datareader.data as web\n",
    "data_file = \"data/kddcup_10_percent_corrected\"\n",
    "df = pd.read_csv(data_file)"
   ]
  },
  {
   "cell_type": "code",
   "execution_count": 31,
   "metadata": {
    "collapsed": false
   },
   "outputs": [
    {
     "data": {
      "text/html": [
       "<div>\n",
       "<table border=\"1\" class=\"dataframe\">\n",
       "  <thead>\n",
       "    <tr style=\"text-align: right;\">\n",
       "      <th></th>\n",
       "      <th>0</th>\n",
       "      <th>tcp</th>\n",
       "      <th>http</th>\n",
       "      <th>SF</th>\n",
       "      <th>181</th>\n",
       "      <th>5450</th>\n",
       "      <th>0.1</th>\n",
       "      <th>0.2</th>\n",
       "      <th>0.3</th>\n",
       "      <th>0.4</th>\n",
       "      <th>...</th>\n",
       "      <th>9.1</th>\n",
       "      <th>1.00.1</th>\n",
       "      <th>0.00.6</th>\n",
       "      <th>0.11.1</th>\n",
       "      <th>0.00.7</th>\n",
       "      <th>0.00.8</th>\n",
       "      <th>0.00.9</th>\n",
       "      <th>0.00.10</th>\n",
       "      <th>0.00.11</th>\n",
       "      <th>normal.</th>\n",
       "    </tr>\n",
       "  </thead>\n",
       "  <tbody>\n",
       "    <tr>\n",
       "      <th>0</th>\n",
       "      <td>0</td>\n",
       "      <td>tcp</td>\n",
       "      <td>http</td>\n",
       "      <td>SF</td>\n",
       "      <td>239</td>\n",
       "      <td>486</td>\n",
       "      <td>0</td>\n",
       "      <td>0</td>\n",
       "      <td>0</td>\n",
       "      <td>0</td>\n",
       "      <td>...</td>\n",
       "      <td>19</td>\n",
       "      <td>1.0</td>\n",
       "      <td>0.0</td>\n",
       "      <td>0.05</td>\n",
       "      <td>0.0</td>\n",
       "      <td>0.0</td>\n",
       "      <td>0.0</td>\n",
       "      <td>0.0</td>\n",
       "      <td>0.0</td>\n",
       "      <td>normal.</td>\n",
       "    </tr>\n",
       "    <tr>\n",
       "      <th>1</th>\n",
       "      <td>0</td>\n",
       "      <td>tcp</td>\n",
       "      <td>http</td>\n",
       "      <td>SF</td>\n",
       "      <td>235</td>\n",
       "      <td>1337</td>\n",
       "      <td>0</td>\n",
       "      <td>0</td>\n",
       "      <td>0</td>\n",
       "      <td>0</td>\n",
       "      <td>...</td>\n",
       "      <td>29</td>\n",
       "      <td>1.0</td>\n",
       "      <td>0.0</td>\n",
       "      <td>0.03</td>\n",
       "      <td>0.0</td>\n",
       "      <td>0.0</td>\n",
       "      <td>0.0</td>\n",
       "      <td>0.0</td>\n",
       "      <td>0.0</td>\n",
       "      <td>normal.</td>\n",
       "    </tr>\n",
       "    <tr>\n",
       "      <th>2</th>\n",
       "      <td>0</td>\n",
       "      <td>tcp</td>\n",
       "      <td>http</td>\n",
       "      <td>SF</td>\n",
       "      <td>219</td>\n",
       "      <td>1337</td>\n",
       "      <td>0</td>\n",
       "      <td>0</td>\n",
       "      <td>0</td>\n",
       "      <td>0</td>\n",
       "      <td>...</td>\n",
       "      <td>39</td>\n",
       "      <td>1.0</td>\n",
       "      <td>0.0</td>\n",
       "      <td>0.03</td>\n",
       "      <td>0.0</td>\n",
       "      <td>0.0</td>\n",
       "      <td>0.0</td>\n",
       "      <td>0.0</td>\n",
       "      <td>0.0</td>\n",
       "      <td>normal.</td>\n",
       "    </tr>\n",
       "    <tr>\n",
       "      <th>3</th>\n",
       "      <td>0</td>\n",
       "      <td>tcp</td>\n",
       "      <td>http</td>\n",
       "      <td>SF</td>\n",
       "      <td>217</td>\n",
       "      <td>2032</td>\n",
       "      <td>0</td>\n",
       "      <td>0</td>\n",
       "      <td>0</td>\n",
       "      <td>0</td>\n",
       "      <td>...</td>\n",
       "      <td>49</td>\n",
       "      <td>1.0</td>\n",
       "      <td>0.0</td>\n",
       "      <td>0.02</td>\n",
       "      <td>0.0</td>\n",
       "      <td>0.0</td>\n",
       "      <td>0.0</td>\n",
       "      <td>0.0</td>\n",
       "      <td>0.0</td>\n",
       "      <td>normal.</td>\n",
       "    </tr>\n",
       "    <tr>\n",
       "      <th>4</th>\n",
       "      <td>0</td>\n",
       "      <td>tcp</td>\n",
       "      <td>http</td>\n",
       "      <td>SF</td>\n",
       "      <td>217</td>\n",
       "      <td>2032</td>\n",
       "      <td>0</td>\n",
       "      <td>0</td>\n",
       "      <td>0</td>\n",
       "      <td>0</td>\n",
       "      <td>...</td>\n",
       "      <td>59</td>\n",
       "      <td>1.0</td>\n",
       "      <td>0.0</td>\n",
       "      <td>0.02</td>\n",
       "      <td>0.0</td>\n",
       "      <td>0.0</td>\n",
       "      <td>0.0</td>\n",
       "      <td>0.0</td>\n",
       "      <td>0.0</td>\n",
       "      <td>normal.</td>\n",
       "    </tr>\n",
       "  </tbody>\n",
       "</table>\n",
       "<p>5 rows × 42 columns</p>\n",
       "</div>"
      ],
      "text/plain": [
       "   0  tcp  http  SF  181  5450  0.1  0.2  0.3  0.4   ...     9.1  1.00.1  \\\n",
       "0  0  tcp  http  SF  239   486    0    0    0    0   ...      19     1.0   \n",
       "1  0  tcp  http  SF  235  1337    0    0    0    0   ...      29     1.0   \n",
       "2  0  tcp  http  SF  219  1337    0    0    0    0   ...      39     1.0   \n",
       "3  0  tcp  http  SF  217  2032    0    0    0    0   ...      49     1.0   \n",
       "4  0  tcp  http  SF  217  2032    0    0    0    0   ...      59     1.0   \n",
       "\n",
       "   0.00.6  0.11.1  0.00.7  0.00.8  0.00.9  0.00.10  0.00.11  normal.  \n",
       "0     0.0    0.05     0.0     0.0     0.0      0.0      0.0  normal.  \n",
       "1     0.0    0.03     0.0     0.0     0.0      0.0      0.0  normal.  \n",
       "2     0.0    0.03     0.0     0.0     0.0      0.0      0.0  normal.  \n",
       "3     0.0    0.02     0.0     0.0     0.0      0.0      0.0  normal.  \n",
       "4     0.0    0.02     0.0     0.0     0.0      0.0      0.0  normal.  \n",
       "\n",
       "[5 rows x 42 columns]"
      ]
     },
     "execution_count": 31,
     "metadata": {},
     "output_type": "execute_result"
    }
   ],
   "source": [
    "df[:5]"
   ]
  },
  {
   "cell_type": "code",
   "execution_count": 32,
   "metadata": {
    "collapsed": false
   },
   "outputs": [
    {
     "data": {
      "text/plain": [
       "0     8\n",
       "1     8\n",
       "2     6\n",
       "3     6\n",
       "4     6\n",
       "5     1\n",
       "6     5\n",
       "7     8\n",
       "8     8\n",
       "9    18\n",
       "Name: 8, dtype: int64"
      ]
     },
     "execution_count": 32,
     "metadata": {},
     "output_type": "execute_result"
    }
   ],
   "source": [
    "df[\"8\"][:10]"
   ]
  },
  {
   "cell_type": "code",
   "execution_count": 33,
   "metadata": {
    "collapsed": false
   },
   "outputs": [
    {
     "data": {
      "text/plain": [
       "Index(['0', 'tcp', 'http', 'SF', '181', '5450', '0.1', '0.2', '0.3', '0.4',\n",
       "       '0.5', '1', '0.6', '0.7', '0.8', '0.9', '0.10', '0.11', '0.12', '0.13',\n",
       "       '0.14', '0.15', '8', '8.1', '0.00', '0.00.1', '0.00.2', '0.00.3',\n",
       "       '1.00', '0.00.4', '0.00.5', '9', '9.1', '1.00.1', '0.00.6', '0.11.1',\n",
       "       '0.00.7', '0.00.8', '0.00.9', '0.00.10', '0.00.11', 'normal.'],\n",
       "      dtype='object')"
      ]
     },
     "execution_count": 33,
     "metadata": {},
     "output_type": "execute_result"
    }
   ],
   "source": [
    "df.columns"
   ]
  },
  {
   "cell_type": "code",
   "execution_count": 34,
   "metadata": {
    "collapsed": false
   },
   "outputs": [
    {
     "data": {
      "text/html": [
       "<div>\n",
       "<table border=\"1\" class=\"dataframe\">\n",
       "  <thead>\n",
       "    <tr style=\"text-align: right;\">\n",
       "      <th></th>\n",
       "      <th>5450</th>\n",
       "      <th>181</th>\n",
       "      <th>http</th>\n",
       "      <th>SF</th>\n",
       "      <th>8</th>\n",
       "      <th>8.1</th>\n",
       "      <th>0.00.4</th>\n",
       "      <th>0.4</th>\n",
       "      <th>0.6</th>\n",
       "      <th>0.2</th>\n",
       "    </tr>\n",
       "  </thead>\n",
       "  <tbody>\n",
       "    <tr>\n",
       "      <th>0</th>\n",
       "      <td>486</td>\n",
       "      <td>239</td>\n",
       "      <td>http</td>\n",
       "      <td>SF</td>\n",
       "      <td>8</td>\n",
       "      <td>8</td>\n",
       "      <td>0.0</td>\n",
       "      <td>0</td>\n",
       "      <td>0</td>\n",
       "      <td>0</td>\n",
       "    </tr>\n",
       "    <tr>\n",
       "      <th>1</th>\n",
       "      <td>1337</td>\n",
       "      <td>235</td>\n",
       "      <td>http</td>\n",
       "      <td>SF</td>\n",
       "      <td>8</td>\n",
       "      <td>8</td>\n",
       "      <td>0.0</td>\n",
       "      <td>0</td>\n",
       "      <td>0</td>\n",
       "      <td>0</td>\n",
       "    </tr>\n",
       "    <tr>\n",
       "      <th>2</th>\n",
       "      <td>1337</td>\n",
       "      <td>219</td>\n",
       "      <td>http</td>\n",
       "      <td>SF</td>\n",
       "      <td>6</td>\n",
       "      <td>6</td>\n",
       "      <td>0.0</td>\n",
       "      <td>0</td>\n",
       "      <td>0</td>\n",
       "      <td>0</td>\n",
       "    </tr>\n",
       "    <tr>\n",
       "      <th>3</th>\n",
       "      <td>2032</td>\n",
       "      <td>217</td>\n",
       "      <td>http</td>\n",
       "      <td>SF</td>\n",
       "      <td>6</td>\n",
       "      <td>6</td>\n",
       "      <td>0.0</td>\n",
       "      <td>0</td>\n",
       "      <td>0</td>\n",
       "      <td>0</td>\n",
       "    </tr>\n",
       "    <tr>\n",
       "      <th>4</th>\n",
       "      <td>2032</td>\n",
       "      <td>217</td>\n",
       "      <td>http</td>\n",
       "      <td>SF</td>\n",
       "      <td>6</td>\n",
       "      <td>6</td>\n",
       "      <td>0.0</td>\n",
       "      <td>0</td>\n",
       "      <td>0</td>\n",
       "      <td>0</td>\n",
       "    </tr>\n",
       "    <tr>\n",
       "      <th>5</th>\n",
       "      <td>1940</td>\n",
       "      <td>212</td>\n",
       "      <td>http</td>\n",
       "      <td>SF</td>\n",
       "      <td>1</td>\n",
       "      <td>2</td>\n",
       "      <td>0.0</td>\n",
       "      <td>0</td>\n",
       "      <td>0</td>\n",
       "      <td>0</td>\n",
       "    </tr>\n",
       "    <tr>\n",
       "      <th>6</th>\n",
       "      <td>4087</td>\n",
       "      <td>159</td>\n",
       "      <td>http</td>\n",
       "      <td>SF</td>\n",
       "      <td>5</td>\n",
       "      <td>5</td>\n",
       "      <td>0.0</td>\n",
       "      <td>0</td>\n",
       "      <td>0</td>\n",
       "      <td>0</td>\n",
       "    </tr>\n",
       "    <tr>\n",
       "      <th>7</th>\n",
       "      <td>151</td>\n",
       "      <td>210</td>\n",
       "      <td>http</td>\n",
       "      <td>SF</td>\n",
       "      <td>8</td>\n",
       "      <td>8</td>\n",
       "      <td>0.0</td>\n",
       "      <td>0</td>\n",
       "      <td>0</td>\n",
       "      <td>0</td>\n",
       "    </tr>\n",
       "    <tr>\n",
       "      <th>8</th>\n",
       "      <td>786</td>\n",
       "      <td>212</td>\n",
       "      <td>http</td>\n",
       "      <td>SF</td>\n",
       "      <td>8</td>\n",
       "      <td>8</td>\n",
       "      <td>0.0</td>\n",
       "      <td>1</td>\n",
       "      <td>0</td>\n",
       "      <td>0</td>\n",
       "    </tr>\n",
       "    <tr>\n",
       "      <th>9</th>\n",
       "      <td>624</td>\n",
       "      <td>210</td>\n",
       "      <td>http</td>\n",
       "      <td>SF</td>\n",
       "      <td>18</td>\n",
       "      <td>18</td>\n",
       "      <td>0.0</td>\n",
       "      <td>0</td>\n",
       "      <td>0</td>\n",
       "      <td>0</td>\n",
       "    </tr>\n",
       "    <tr>\n",
       "      <th>10</th>\n",
       "      <td>1985</td>\n",
       "      <td>177</td>\n",
       "      <td>http</td>\n",
       "      <td>SF</td>\n",
       "      <td>1</td>\n",
       "      <td>1</td>\n",
       "      <td>0.0</td>\n",
       "      <td>0</td>\n",
       "      <td>0</td>\n",
       "      <td>0</td>\n",
       "    </tr>\n",
       "    <tr>\n",
       "      <th>11</th>\n",
       "      <td>773</td>\n",
       "      <td>222</td>\n",
       "      <td>http</td>\n",
       "      <td>SF</td>\n",
       "      <td>11</td>\n",
       "      <td>11</td>\n",
       "      <td>0.0</td>\n",
       "      <td>0</td>\n",
       "      <td>0</td>\n",
       "      <td>0</td>\n",
       "    </tr>\n",
       "    <tr>\n",
       "      <th>12</th>\n",
       "      <td>1169</td>\n",
       "      <td>256</td>\n",
       "      <td>http</td>\n",
       "      <td>SF</td>\n",
       "      <td>4</td>\n",
       "      <td>4</td>\n",
       "      <td>0.0</td>\n",
       "      <td>0</td>\n",
       "      <td>0</td>\n",
       "      <td>0</td>\n",
       "    </tr>\n",
       "    <tr>\n",
       "      <th>13</th>\n",
       "      <td>259</td>\n",
       "      <td>241</td>\n",
       "      <td>http</td>\n",
       "      <td>SF</td>\n",
       "      <td>1</td>\n",
       "      <td>1</td>\n",
       "      <td>0.0</td>\n",
       "      <td>0</td>\n",
       "      <td>0</td>\n",
       "      <td>0</td>\n",
       "    </tr>\n",
       "    <tr>\n",
       "      <th>14</th>\n",
       "      <td>1837</td>\n",
       "      <td>260</td>\n",
       "      <td>http</td>\n",
       "      <td>SF</td>\n",
       "      <td>11</td>\n",
       "      <td>11</td>\n",
       "      <td>0.0</td>\n",
       "      <td>0</td>\n",
       "      <td>0</td>\n",
       "      <td>0</td>\n",
       "    </tr>\n",
       "  </tbody>\n",
       "</table>\n",
       "</div>"
      ],
      "text/plain": [
       "    5450  181  http  SF   8  8.1  0.00.4  0.4  0.6  0.2\n",
       "0    486  239  http  SF   8    8     0.0    0    0    0\n",
       "1   1337  235  http  SF   8    8     0.0    0    0    0\n",
       "2   1337  219  http  SF   6    6     0.0    0    0    0\n",
       "3   2032  217  http  SF   6    6     0.0    0    0    0\n",
       "4   2032  217  http  SF   6    6     0.0    0    0    0\n",
       "5   1940  212  http  SF   1    2     0.0    0    0    0\n",
       "6   4087  159  http  SF   5    5     0.0    0    0    0\n",
       "7    151  210  http  SF   8    8     0.0    0    0    0\n",
       "8    786  212  http  SF   8    8     0.0    1    0    0\n",
       "9    624  210  http  SF  18   18     0.0    0    0    0\n",
       "10  1985  177  http  SF   1    1     0.0    0    0    0\n",
       "11   773  222  http  SF  11   11     0.0    0    0    0\n",
       "12  1169  256  http  SF   4    4     0.0    0    0    0\n",
       "13   259  241  http  SF   1    1     0.0    0    0    0\n",
       "14  1837  260  http  SF  11   11     0.0    0    0    0"
      ]
     },
     "execution_count": 34,
     "metadata": {},
     "output_type": "execute_result"
    }
   ],
   "source": [
    "df[['5450', '181', 'http', 'SF', '8', '8.1','0.00.4', '0.4', '0.6', '0.2'\n",
    "]][:15]"
   ]
  },
  {
   "cell_type": "code",
   "execution_count": 35,
   "metadata": {
    "collapsed": false
   },
   "outputs": [
    {
     "data": {
      "text/plain": [
       "'486239httpSF880.0000'"
      ]
     },
     "execution_count": 35,
     "metadata": {},
     "output_type": "execute_result"
    }
   ],
   "source": [
    "co=\"%s%s%s%s%s%s%s%s%s%s\"%(df['5450'][0],df['181'][0],df['http'][0],df['SF'][0],df['8'][0],df['8.1'][0],df['0.00.4'][0],df['0.4'][0],df['0.6'][0],df['0.2'][0])\n",
    "co"
   ]
  },
  {
   "cell_type": "code",
   "execution_count": 36,
   "metadata": {
    "collapsed": false
   },
   "outputs": [
    {
     "data": {
      "text/html": [
       "<div>\n",
       "<table border=\"1\" class=\"dataframe\">\n",
       "  <thead>\n",
       "    <tr style=\"text-align: right;\">\n",
       "      <th></th>\n",
       "      <th>meetConcat</th>\n",
       "      <th>mNbr</th>\n",
       "    </tr>\n",
       "  </thead>\n",
       "  <tbody>\n",
       "  </tbody>\n",
       "</table>\n",
       "</div>"
      ],
      "text/plain": [
       "Empty DataFrame\n",
       "Columns: [meetConcat, mNbr]\n",
       "Index: []"
      ]
     },
     "execution_count": 36,
     "metadata": {},
     "output_type": "execute_result"
    }
   ],
   "source": [
    "fd = pd.DataFrame(columns=['meetConcat','mNbr'])\n",
    "fd"
   ]
  },
  {
   "cell_type": "code",
   "execution_count": 37,
   "metadata": {
    "collapsed": false
   },
   "outputs": [
    {
     "data": {
      "text/html": [
       "<div>\n",
       "<table border=\"1\" class=\"dataframe\">\n",
       "  <thead>\n",
       "    <tr style=\"text-align: right;\">\n",
       "      <th></th>\n",
       "      <th>meetConcat</th>\n",
       "      <th>mNbr</th>\n",
       "    </tr>\n",
       "  </thead>\n",
       "  <tbody>\n",
       "    <tr>\n",
       "      <th>0</th>\n",
       "      <td>486239httpSF880.0000</td>\n",
       "      <td>1.0</td>\n",
       "    </tr>\n",
       "  </tbody>\n",
       "</table>\n",
       "</div>"
      ],
      "text/plain": [
       "             meetConcat  mNbr\n",
       "0  486239httpSF880.0000   1.0"
      ]
     },
     "execution_count": 37,
     "metadata": {},
     "output_type": "execute_result"
    }
   ],
   "source": [
    "fd.loc[0]=[co,1]\n",
    "fd"
   ]
  },
  {
   "cell_type": "code",
   "execution_count": 38,
   "metadata": {
    "collapsed": false
   },
   "outputs": [
    {
     "data": {
      "text/plain": [
       "True"
      ]
     },
     "execution_count": 38,
     "metadata": {},
     "output_type": "execute_result"
    }
   ],
   "source": [
    "(fd['meetConcat']== co).any()"
   ]
  },
  {
   "cell_type": "code",
   "execution_count": 39,
   "metadata": {
    "collapsed": false
   },
   "outputs": [
    {
     "data": {
      "text/plain": [
       "False"
      ]
     },
     "execution_count": 39,
     "metadata": {},
     "output_type": "execute_result"
    }
   ],
   "source": [
    "(fd['meetConcat']!= co).all()"
   ]
  },
  {
   "cell_type": "code",
   "execution_count": 40,
   "metadata": {
    "collapsed": false
   },
   "outputs": [
    {
     "data": {
      "text/html": [
       "<div>\n",
       "<table border=\"1\" class=\"dataframe\">\n",
       "  <thead>\n",
       "    <tr style=\"text-align: right;\">\n",
       "      <th></th>\n",
       "      <th>meetConcat</th>\n",
       "      <th>mNbr</th>\n",
       "    </tr>\n",
       "  </thead>\n",
       "  <tbody>\n",
       "    <tr>\n",
       "      <th>0</th>\n",
       "      <td>486239httpSF880.0000</td>\n",
       "      <td>2.0</td>\n",
       "    </tr>\n",
       "  </tbody>\n",
       "</table>\n",
       "</div>"
      ],
      "text/plain": [
       "             meetConcat  mNbr\n",
       "0  486239httpSF880.0000   2.0"
      ]
     },
     "execution_count": 40,
     "metadata": {},
     "output_type": "execute_result"
    }
   ],
   "source": [
    "fd.ix[fd.loc[fd['meetConcat']== co].index.tolist(), 'mNbr']+=1\n",
    "fd"
   ]
  },
  {
   "cell_type": "code",
   "execution_count": 41,
   "metadata": {
    "collapsed": false
   },
   "outputs": [
    {
     "data": {
      "text/plain": [
       "'1337235httpSF880.0000'"
      ]
     },
     "execution_count": 41,
     "metadata": {},
     "output_type": "execute_result"
    }
   ],
   "source": [
    "ind = len(fd.index)\n",
    "co=\"%s%s%s%s%s%s%s%s%s%s\"%(df['5450'][ind],df['181'][ind],df['http'][ind],df['SF'][ind],df['8'][ind],df['8.1'][ind],df['0.00.4'][ind],df['0.4'][ind],df['0.6'][ind],df['0.2'][ind])\n",
    "co"
   ]
  },
  {
   "cell_type": "code",
   "execution_count": 45,
   "metadata": {
    "collapsed": false
   },
   "outputs": [
    {
     "data": {
      "text/html": [
       "<div>\n",
       "<table border=\"1\" class=\"dataframe\">\n",
       "  <thead>\n",
       "    <tr style=\"text-align: right;\">\n",
       "      <th></th>\n",
       "      <th>meetConcat</th>\n",
       "      <th>mNbr</th>\n",
       "    </tr>\n",
       "  </thead>\n",
       "  <tbody>\n",
       "    <tr>\n",
       "      <th>0</th>\n",
       "      <td>486239httpSF880.0000</td>\n",
       "      <td>2.0</td>\n",
       "    </tr>\n",
       "    <tr>\n",
       "      <th>1</th>\n",
       "      <td>1337235httpSF880.0000</td>\n",
       "      <td>2.0</td>\n",
       "    </tr>\n",
       "  </tbody>\n",
       "</table>\n",
       "</div>"
      ],
      "text/plain": [
       "              meetConcat  mNbr\n",
       "0   486239httpSF880.0000   2.0\n",
       "1  1337235httpSF880.0000   2.0"
      ]
     },
     "execution_count": 45,
     "metadata": {},
     "output_type": "execute_result"
    }
   ],
   "source": [
    "if ((fd['meetConcat']!= co).all()):\n",
    "    fd.loc[ind] = [co, 1]\n",
    "else:\n",
    "    fd.ix[fd.loc[fd['meetConcat']== co].index.tolist(), 'mNbr']+=1\n",
    "fd"
   ]
  },
  {
   "cell_type": "code",
   "execution_count": 47,
   "metadata": {
    "collapsed": false
   },
   "outputs": [
    {
     "data": {
      "text/html": [
       "<div>\n",
       "<table border=\"1\" class=\"dataframe\">\n",
       "  <thead>\n",
       "    <tr style=\"text-align: right;\">\n",
       "      <th></th>\n",
       "      <th>meetConcat</th>\n",
       "      <th>mNbr</th>\n",
       "    </tr>\n",
       "  </thead>\n",
       "  <tbody>\n",
       "    <tr>\n",
       "      <th>0</th>\n",
       "      <td>486239httpSF880.0000</td>\n",
       "      <td>2.0</td>\n",
       "    </tr>\n",
       "    <tr>\n",
       "      <th>1</th>\n",
       "      <td>1337235httpSF880.0000</td>\n",
       "      <td>1.0</td>\n",
       "    </tr>\n",
       "  </tbody>\n",
       "</table>\n",
       "</div>"
      ],
      "text/plain": [
       "              meetConcat  mNbr\n",
       "0   486239httpSF880.0000   2.0\n",
       "1  1337235httpSF880.0000   1.0"
      ]
     },
     "execution_count": 47,
     "metadata": {},
     "output_type": "execute_result"
    }
   ],
   "source": [
    "fd.ix[fd.loc[fd['meetConcat']== co].index.tolist(), 'mNbr']=1\n",
    "fd"
   ]
  },
  {
   "cell_type": "markdown",
   "metadata": {},
   "source": [
    "# III.Solution to detect a DoS attack"
   ]
  },
  {
   "cell_type": "markdown",
   "metadata": {},
   "source": [
    "The novel about the DDoS attacks detection proposes several solutions and algorithms to detect an undesirable connection. One of the most interesting proposal consists in applying the “One Pass Incremental Association Rule Detection Algorithm” on the KDD99 dataset. Here is the algorithm :\n",
    "\n",
    "**Input:** Network Traffic Database\n",
    "\n",
    "**Output:** Association Rules\n",
    "\n",
    "**Steps:**\n",
    "\n",
    "(1) For every record in Database\n",
    "\n",
    "2. ‘OuterHashKey’ = Concatenation of values of 10   selected features from Database\n",
    "2. If entry for OuterHashKey is present in Outer HashTable Then\n",
    "\n",
    " - i.Increment Pattern Counter (Association.Count) by one\n",
    "      Else\n",
    " - i.Create entry for Outer Hash key in outer Hash Table\n",
    " - ii.Initialize Pattern Counter '(Association.Count) to one )done \n",
    "2.  ‘InnerHashKey’ = Value of Attack Type field of that record\n",
    "2. If entry for InnerHashKey is present in Inner Hash Table Then\n",
    " - i.Increment Association.AttackType.AttackTypeCounter by one\n",
    "      Else\n",
    " - i. Create an entry for Attack Type in Inner Hash\n",
    " - ii. Initialize Association.AttackType.AttackTypeCounter to one\n",
    "\n",
    "(2) For Every Entry in Outer Hash Table\n",
    "\n",
    "2.  Support = Association.Count\n",
    "2.  For Every entry in InnerHashTable\n",
    " - i.Confidence = Association.AttackType.AttackTypeCounter/ Association.Count\n",
    " - ii.If (Confidence and Support are above Threshold)\n",
    "3.  Generate Association rule\n",
    "\n",
    "“OuterHashKey” is the concatenation of 10 characteristics of a connection :\n",
    "- dst_bytes,\n",
    "- src_bytes,\n",
    "- service,\n",
    "- flag,\n",
    "- Count,\n",
    "- srv_count, \n",
    "- srv_diff_host_rate,\n",
    "- hot,\n",
    "- num_compromised,\n",
    "- Wrong_fragment\n"
   ]
  }
 ],
 "metadata": {
  "anaconda-cloud": {},
  "kernelspec": {
   "display_name": "Python [default]",
   "language": "python",
   "name": "python3"
  },
  "language_info": {
   "codemirror_mode": {
    "name": "ipython",
    "version": 3
   },
   "file_extension": ".py",
   "mimetype": "text/x-python",
   "name": "python",
   "nbconvert_exporter": "python",
   "pygments_lexer": "ipython3",
   "version": "3.5.2"
  }
 },
 "nbformat": 4,
 "nbformat_minor": 0
}
